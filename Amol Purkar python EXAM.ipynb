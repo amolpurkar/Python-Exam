{
 "cells": [
  {
   "cell_type": "code",
   "execution_count": 29,
   "id": "8577f42d",
   "metadata": {},
   "outputs": [
    {
     "name": "stdout",
     "output_type": "stream",
     "text": [
      "its a postive string ['He', 'is', 'a', 'good', 'boy']\n",
      " its a negative string ['Food', 'is', 'the', 'worst', 'here']\n",
      "its a postive string ['He', 'is', 'an', 'awesome', 'player']\n",
      "its a postive string ['She', 'is', 'the', 'best']\n",
      " its a negative string ['This', 'pizza', 'tastes', 'awful']\n",
      "its a postive string ['These', 'burger', 'are', 'really', 'nice']\n"
     ]
    }
   ],
   "source": [
    "#1. Given below are a list of positive and negative words. Also a list of comments is provided. Segregate the comments based on positive and negative sentiments.\n",
    "#positive = ['good','awesome', 'best', 'nice'] negative = ['worst','awful']\n",
    "#comments = ['He is a good boy', 'Food is the worst here', 'He is an awesome player', 'She is the best',\n",
    "#'This pizza tastes awful', 'These burger are really nice']\n",
    "\n",
    "positive = ['good','awesome', 'best', 'nice']\n",
    "negative = ['worst','awful']\n",
    "comments = ['He is a good boy',\n",
    "            'Food is the worst here',\n",
    "            'He is an awesome player',\n",
    "            'She is the best',\n",
    "            'This pizza tastes awful',\n",
    "            'These burger are really nice']\n",
    "for i in comments: \n",
    "    l3 = i.split()\n",
    "    for f in positive:\n",
    "        if f in l3: \n",
    "            print(\"its a postive string\",l3)\n",
    "            break\n",
    "\n",
    "    for h in negative:\n",
    "        if h in l3:\n",
    "            print(\" its a negative string\", l3)"
   ]
  },
  {
   "cell_type": "code",
   "execution_count": null,
   "id": "6d91518b",
   "metadata": {},
   "outputs": [],
   "source": []
  },
  {
   "cell_type": "code",
   "execution_count": 34,
   "id": "aff24db0",
   "metadata": {},
   "outputs": [
    {
     "name": "stdout",
     "output_type": "stream",
     "text": [
      "25\n",
      "sq 16255.0\n"
     ]
    }
   ],
   "source": [
    "#2. Create a dictionary containing three lambda functions square, cube and square root.\n",
    "#E.g. dict = {'Square': function for squaring, 'Cube': function for cube, 'Squareroot': function for square root}\n",
    "#ass the values (input from the user) to the functions in the dictionary respectively. Then add the outputs of each function and print it.\n",
    "import numpy as np\n",
    "import math\n",
    "dict={'Square':lambda x: x * x,\n",
    "      'Cube':lambda x: x * x * x,\n",
    "      'Squareroot':lambda x:np.sqrt(x)}\n",
    "num=int(input())\n",
    "result=0\n",
    "for fun in dict:\n",
    "    result+=dict[fun](num)\n",
    "print(\"sq\",result)\n",
    "\n"
   ]
  },
  {
   "cell_type": "code",
   "execution_count": null,
   "id": "e2294d7e",
   "metadata": {},
   "outputs": [],
   "source": []
  },
  {
   "cell_type": "code",
   "execution_count": null,
   "id": "8e5f052e",
   "metadata": {},
   "outputs": [],
   "source": []
  },
  {
   "cell_type": "code",
   "execution_count": null,
   "id": "9cca3bf4",
   "metadata": {},
   "outputs": [],
   "source": []
  },
  {
   "cell_type": "code",
   "execution_count": 19,
   "id": "e245b18f",
   "metadata": {},
   "outputs": [
    {
     "name": "stdout",
     "output_type": "stream",
     "text": [
      "Uppercase words is : hOw\n",
      "Uppercase words is : ARe\n"
     ]
    }
   ],
   "source": [
    "#4. A list of words is given. Find the words from the list that have their second character in uppercase.\n",
    "#ls = ['hello', 'Dear', 'hOw', 'ARe', 'You'] Output: ['hOw', 'ARe']\n",
    "\n",
    "ls = ['hello', 'Dear', 'hOw', 'ARe', 'You']  \n",
    "for i in ls:\n",
    "    Second_char = i[1]\n",
    "    if Second_char.isupper():\n",
    "        print('Uppercase words is :', i)"
   ]
  },
  {
   "cell_type": "code",
   "execution_count": null,
   "id": "76775ec8",
   "metadata": {},
   "outputs": [],
   "source": []
  },
  {
   "cell_type": "code",
   "execution_count": 26,
   "id": "2d1e75d0",
   "metadata": {},
   "outputs": [
    {
     "name": "stdout",
     "output_type": "stream",
     "text": [
      "Maria\n",
      "Hello\n",
      "World\n",
      "Merry\n"
     ]
    }
   ],
   "source": [
    "#6. Write a program to fetch the words from the given list which have their first character in uppercase.\n",
    "#namesList = ['santa Maria', 'Hello World','Merry christmas', 'tHank You']\n",
    "#Output: ['Maria', 'Hello', 'World', 'Merry', 'You']\n",
    "\n",
    "namesList = ['santa' ,'Maria', 'Hello' ,'World','Merry', 'christmas', 'tHank You']\n",
    "for i in namesList:\n",
    "    First_char = i[0]\n",
    "    if First_char.isupper():\n",
    "        print(i)"
   ]
  },
  {
   "cell_type": "code",
   "execution_count": null,
   "id": "284228ed",
   "metadata": {},
   "outputs": [],
   "source": []
  },
  {
   "cell_type": "code",
   "execution_count": 16,
   "id": "86f9502a",
   "metadata": {},
   "outputs": [
    {
     "name": "stdout",
     "output_type": "stream",
     "text": [
      "[8, 3]\n"
     ]
    }
   ],
   "source": [
    "# 7 A list containing multiple lists is given. Convert each inner list into sets and find the intersection of all the sets.\n",
    "#Use reduce function.\n",
    "#given_sets = [[1, 2, 3, 4, 8], [2, 3, 8, 5, 6], [8, 4, 5, 3, 7], [6, 9, 8, 3], [9,\n",
    "#12, 3, 7, 6, 8, 4, 6, 21, 1, 6]]\n",
    "#Output: {8, 3}\n",
    "\n",
    "given_sets = [[1, 2, 3, 4, 8], [2, 3, 8, 5, 6], [8, 4, 5, 3, 7], [6, \n",
    "9, 8, 3], [9, 12, 3, 7, 6, 8, 4, 6, 21, 1, 6]] \n",
    "from functools import reduce\n",
    "intersect = list(reduce(set.intersection, [set(x)for x in\n",
    "given_sets ]))\n",
    "print(intersect)"
   ]
  },
  {
   "cell_type": "code",
   "execution_count": null,
   "id": "9dfe8eb6",
   "metadata": {},
   "outputs": [],
   "source": []
  },
  {
   "cell_type": "code",
   "execution_count": 6,
   "id": "ccf2b55f",
   "metadata": {},
   "outputs": [],
   "source": [
    "# 8 Find the cumulative average of the list [9,8,7,6,5] using accumulate() and lambda function"
   ]
  },
  {
   "cell_type": "code",
   "execution_count": 8,
   "id": "103c3bef",
   "metadata": {},
   "outputs": [
    {
     "name": "stdout",
     "output_type": "stream",
     "text": [
      "9\n",
      "7.0\n",
      "7.0\n",
      "7.5\n",
      "6.25\n"
     ]
    }
   ],
   "source": [
    "from  itertools import accumulate\n",
    "result=accumulate([9, 5, 7, 8, 5],lambda x,y:(x+y)/2)\n",
    "for res in result :\n",
    "    print(res)"
   ]
  },
  {
   "cell_type": "code",
   "execution_count": null,
   "id": "3b8aee1d",
   "metadata": {},
   "outputs": [],
   "source": []
  },
  {
   "cell_type": "code",
   "execution_count": 1,
   "id": "66af97a2",
   "metadata": {},
   "outputs": [],
   "source": [
    "# 9 A list of words is given. Convert the words into uppercase. Use lambda and map functions.\n",
    "lsbool = ['True','FALse','tRUe','tRue','False','faLse']\n",
    "#Output: ['TRUE', 'FALSE', 'TRUE', 'TRUE', 'FALSE', 'FALSE']"
   ]
  },
  {
   "cell_type": "code",
   "execution_count": 2,
   "id": "aae6eaed",
   "metadata": {},
   "outputs": [
    {
     "data": {
      "text/plain": [
       "['TRUE', 'FALSE', 'TRUE', 'TRUE', 'FALSE', 'FALSE']"
      ]
     },
     "execution_count": 2,
     "metadata": {},
     "output_type": "execute_result"
    }
   ],
   "source": [
    "list(map(lambda lsbool:lsbool.upper(), ['True','FALse','tRUe','tRue','False','faLse']))"
   ]
  },
  {
   "cell_type": "code",
   "execution_count": null,
   "id": "110bb1dd",
   "metadata": {},
   "outputs": [],
   "source": []
  },
  {
   "cell_type": "code",
   "execution_count": 23,
   "id": "0e411fb6",
   "metadata": {},
   "outputs": [
    {
     "name": "stdout",
     "output_type": "stream",
     "text": [
      "['1997', '2011', '1993', '2020']\n"
     ]
    }
   ],
   "source": [
    "#10. A list of dates (dd-mm-yyyy) in the form of string is given below. Create a new list that stores years i.e. the 'yyyy' part from the dates in the given list.\n",
    "#datesList = ['17-12-1997','22-04-2011','01-05-1993','19-06-2020']\n",
    "#Output: ['1997','2011','1993','2020']\n",
    "\n",
    "datesList = ['17-12-1997','22-04-2011','01-05-1993','19-06-2020'] \n",
    "year_list = []\n",
    "for i in datesList:\n",
    "    year_list.append(i.split(\"-\")[2])\n",
    "    \n",
    "print(year_list)"
   ]
  },
  {
   "cell_type": "code",
   "execution_count": null,
   "id": "8d864660",
   "metadata": {},
   "outputs": [],
   "source": []
  },
  {
   "cell_type": "code",
   "execution_count": null,
   "id": "233acca7",
   "metadata": {},
   "outputs": [],
   "source": []
  },
  {
   "cell_type": "code",
   "execution_count": null,
   "id": "359b03be",
   "metadata": {},
   "outputs": [],
   "source": []
  }
 ],
 "metadata": {
  "kernelspec": {
   "display_name": "Python 3 (ipykernel)",
   "language": "python",
   "name": "python3"
  },
  "language_info": {
   "codemirror_mode": {
    "name": "ipython",
    "version": 3
   },
   "file_extension": ".py",
   "mimetype": "text/x-python",
   "name": "python",
   "nbconvert_exporter": "python",
   "pygments_lexer": "ipython3",
   "version": "3.9.12"
  }
 },
 "nbformat": 4,
 "nbformat_minor": 5
}
